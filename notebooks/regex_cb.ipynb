{
    "cells": [
        {
            "cell_type": "markdown",
            "metadata": {},
            "source": [
                "![An interactive SLAT7829 notebook](https://github.com/MartinSchweinberger/SLAT7829/blob/master/images/bannerSLAT7829.jpeg?raw=true)\n",
                "\n",
                "# String Processing in R\n",
                "\n",
                "This tutorial introduces regular expressions and how they can be used when working with language data.\n",
                "\n",
                "\n",
                "**Preparation and session set up**\n",
                "\n",
                "Load the neccessary packages.\n"
            ]
        },
        {
            "cell_type": "code",
            "execution_count": null,
            "metadata": {},
            "outputs": [],
            "source": [
                "library(tidyverse)\n",
                "library(flextable)\n"
            ]
        },
        {
            "cell_type": "markdown",
            "metadata": {},
            "source": [
                "Once you have installed RStudio and have initiated the session by executing the code shown above, you are good to go.\n",
                "\n",
                "# Getting started with Regular Expressions\n",
                "\n",
                "To put regular expressions into practice, we need some text that we will perform out searches on. In this tutorial, we will use texts from wikipedia about grammar.\n"
            ]
        },
        {
            "cell_type": "code",
            "execution_count": null,
            "metadata": {},
            "outputs": [],
            "source": [
                "# read in first text\n",
                "text1 <- readLines(\"https://slcladal.github.io/data/testcorpus/linguistics02.txt\")\n",
                "et <-  paste(text1, sep = \" \", collapse = \" \")\n",
                "# inspect example text\n",
                "et\n"
            ]
        },
        {
            "cell_type": "markdown",
            "metadata": {},
            "source": [
                "In addition, we will split the example text into words to have another resource we can use to understand regular expressions\n",
                "\n"
            ]
        },
        {
            "cell_type": "code",
            "execution_count": null,
            "metadata": {},
            "outputs": [],
            "source": [
                "# split example text\n",
                "set <- str_split(et, \" \") %>%\n",
                "  unlist()\n",
                "# inspect\n",
                "head(set)\n"
            ]
        },
        {
            "cell_type": "markdown",
            "metadata": {},
            "source": [
                "Before we delve into using regular expressions, we will have a look at the regular expressions that can be used in R and also check what they stand for.\n",
                "\n",
                "There are three basic types of regular expressions:\n",
                "\n",
                "* regular expressions that stand for individual symbols and determine frequencies\n",
                "\n",
                "* regular expressions that stand for classes of symbols\n",
                "\n",
                "* regular expressions that stand for structural properties\n",
                "\n",
                "The regular expressions below show the first type of regular expressions, i.e. regular expressions that stand for individual symbols and determine frequencies.\n",
                "\n",
                "![](https://slcladal.github.io/images/regex01.JPG)\n",
                "\n",
                "\n",
                "\n",
                "The regular expressions below show the second type of regular expressions, i.e. regular expressions that stand for classes of symbols.\n",
                "\n",
                "![](https://slcladal.github.io/images/regex02.JPG)\n",
                "\n",
                "\n",
                "\n",
                "The regular expressions that denote classes of symbols are enclosed in `[]` and `:`. The last type of regular expressions, i.e. regular expressions that stand for structural properties are shown below.\n",
                "\n",
                "![](https://slcladal.github.io/images/regex03.JPG)\n",
                "\n",
                "\n",
                "\n",
                "\n",
                "# Practice\n",
                "\n",
                "In this section, we will explore how to use regular expressions. At the end, we will go through some exercises to help you understand how you can best utilize regular expressions.\n",
                "\n",
                "Show all words in the split example text that contain `a` or `n`.\n"
            ]
        },
        {
            "cell_type": "code",
            "execution_count": null,
            "metadata": {},
            "outputs": [],
            "source": [
                "set[str_detect(set, \"[an]\")]\n",
                "\n"
            ]
        },
        {
            "cell_type": "markdown",
            "metadata": {},
            "source": [
                "Show all words in the split example text that begin with a lower case `a`.\n",
                "\n"
            ]
        },
        {
            "cell_type": "code",
            "execution_count": null,
            "metadata": {},
            "outputs": [],
            "source": [
                "set[str_detect(set, \"^a\")]\n",
                "\n"
            ]
        },
        {
            "cell_type": "markdown",
            "metadata": {},
            "source": [
                "Show all words in the split example text that end in a lower case `s`.\n",
                "\n"
            ]
        },
        {
            "cell_type": "code",
            "execution_count": null,
            "metadata": {},
            "outputs": [],
            "source": [
                "set[str_detect(set, \"s$\")]\n",
                "\n"
            ]
        },
        {
            "cell_type": "markdown",
            "metadata": {},
            "source": [
                "Show all words in the split example text in which there is an `e`, then any other character, and than another `n`.\n",
                "\n"
            ]
        },
        {
            "cell_type": "code",
            "execution_count": null,
            "metadata": {},
            "outputs": [],
            "source": [
                "set[str_detect(set, \"e.n\")]\n",
                "\n"
            ]
        },
        {
            "cell_type": "markdown",
            "metadata": {},
            "source": [
                "Show all words in the split example text in which there is an `e`, then two other characters, and than another `n`.\n",
                "\n"
            ]
        },
        {
            "cell_type": "code",
            "execution_count": null,
            "metadata": {},
            "outputs": [],
            "source": [
                "set[str_detect(set, \"e.{2,2}n\")]\n",
                "\n"
            ]
        },
        {
            "cell_type": "markdown",
            "metadata": {},
            "source": [
                "Show all words that consist of exactly three alphabetical characters in the split example text.\n",
                "\n"
            ]
        },
        {
            "cell_type": "code",
            "execution_count": null,
            "metadata": {},
            "outputs": [],
            "source": [
                "set[str_detect(set, \"^[:alpha:]{3,3}$\")]\n",
                "\n"
            ]
        },
        {
            "cell_type": "markdown",
            "metadata": {},
            "source": [
                "Show all words that consist of six or more alphabetical characters in the split example text.\n",
                "\n"
            ]
        },
        {
            "cell_type": "code",
            "execution_count": null,
            "metadata": {},
            "outputs": [],
            "source": [
                "set[str_detect(set, \"^[:alpha:]{6,}$\")]\n",
                "\n"
            ]
        },
        {
            "cell_type": "markdown",
            "metadata": {},
            "source": [
                "Replace all lower case `a`s with upper case `E`s in the example text.\n",
                "\n"
            ]
        },
        {
            "cell_type": "code",
            "execution_count": null,
            "metadata": {},
            "outputs": [],
            "source": [
                "str_replace_all(et, \"a\", \"E\")\n",
                "\n"
            ]
        },
        {
            "cell_type": "markdown",
            "metadata": {},
            "source": [
                "Remove all non-alphabetical characters in the split example text.\n",
                "\n"
            ]
        },
        {
            "cell_type": "code",
            "execution_count": null,
            "metadata": {},
            "outputs": [],
            "source": [
                "str_remove_all(set, \"\\\\W\")\n",
                "\n"
            ]
        },
        {
            "cell_type": "markdown",
            "metadata": {},
            "source": [
                "Remove all white spaces in the example text.\n",
                "\n"
            ]
        },
        {
            "cell_type": "code",
            "execution_count": null,
            "metadata": {},
            "outputs": [],
            "source": [
                "str_remove_all(et, \" \")\n",
                "\n"
            ]
        },
        {
            "cell_type": "markdown",
            "metadata": {},
            "source": [
                "**Highlighting patterns**\n",
                "\n",
                "We use the `str_view` and `str_view_all` functions to show the occurrences of regular expressions in the example text.\n",
                "\n",
                "To begin with, we match an exactly defined pattern (`ang`).\n"
            ]
        },
        {
            "cell_type": "code",
            "execution_count": null,
            "metadata": {},
            "outputs": [],
            "source": [
                "str_view_all(et, \"ang\")\n",
                "\n"
            ]
        },
        {
            "cell_type": "markdown",
            "metadata": {},
            "source": [
                "Now, we include . which stands for any symbol (except a new line symbol).\n",
                "\n"
            ]
        },
        {
            "cell_type": "code",
            "execution_count": null,
            "metadata": {},
            "outputs": [],
            "source": [
                "str_view_all(et, \".n.\")\n",
                "\n"
            ]
        },
        {
            "cell_type": "markdown",
            "metadata": {},
            "source": [
                "\n",
                "\n"
            ]
        },
        {
            "cell_type": "code",
            "execution_count": null,
            "metadata": {},
            "outputs": [],
            "source": [
                "sessionInfo()\n",
                "\n"
            ]
        }
    ],
    "metadata": {
        "anaconda-cloud": "",
        "kernelspec": {
            "display_name": "R",
            "langauge": "R",
            "name": "ir"
        },
        "language_info": {
            "codemirror_mode": "r",
            "file_extension": ".r",
            "mimetype": "text/x-r-source",
            "name": "R",
            "pygments_lexer": "r",
            "version": "3.4.1"
        }
    },
    "nbformat": 4,
    "nbformat_minor": 1
}
